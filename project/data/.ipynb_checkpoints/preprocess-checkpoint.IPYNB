{
 "cells": [
  {
   "cell_type": "code",
   "execution_count": null,
   "id": "bfd7de87",
   "metadata": {
    "vscode": {
     "languageId": "plaintext"
    }
   },
   "outputs": [],
   "source": [
    "from spark_utils import init_spark\n",
    "\n",
    "print(\"Initializing Spark session...\")\n",
    "\n",
    "spark = init_spark(\"local\")\n",
    "train_path = \"hdfs://master:9000/usr/ubuntu/data/classweights-43-21/train_df.parquet\"\n",
    "\n",
    "train = spark.read.parquet(train_path)\n",
    "minitrain = train.randomSplit([0.1, 0.9], seed=42)[0]\n",
    "\n",
    "minitrain.write.mode(\"overwrite\").parquet(\"hdfs://master:9000/usr/ubuntu/data/classweights-43-21/mini_train_df.parquet\")\n",
    "mini_train_df.show(5)\n",
    "print(f\"Train count: {minitrain.count()}\")\n",
    "spark.stop()"
   ]
  }
 ],
 "metadata": {
  "language_info": {
   "name": "python"
  }
 },
 "nbformat": 4,
 "nbformat_minor": 5
}
