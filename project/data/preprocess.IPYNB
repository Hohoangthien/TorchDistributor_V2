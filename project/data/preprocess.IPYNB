{
 "cells": [
  {
   "cell_type": "code",
   "execution_count": 1,
   "id": "bfd7de87",
   "metadata": {
    "scrolled": true
   },
   "outputs": [
    {
     "name": "stdout",
     "output_type": "stream",
     "text": [
      "Initializing Spark session...\n",
      "[INFO] MASTER node configured for coordination only\n",
      "  DAEMON_MEMORY: 2g\n",
      "  WORKER_INSTANCES: 0 (disabled)\n"
     ]
    },
    {
     "name": "stderr",
     "output_type": "stream",
     "text": [
      "Setting default log level to \"WARN\".\n",
      "To adjust logging level use sc.setLogLevel(newLevel). For SparkR, use setLogLevel(newLevel).\n",
      "25/09/30 15:53:33 WARN NativeCodeLoader: Unable to load native-hadoop library for your platform... using builtin-java classes where applicable\n",
      "25/09/30 15:53:35 WARN Client: Neither spark.yarn.jars nor spark.yarn.archive is set, falling back to uploading libraries under SPARK_HOME.\n"
     ]
    }
   ],
   "source": [
    "print(\"Initializing Spark session...\")\n",
    "\n",
    "from pyspark.sql import SparkSession\n",
    "\n",
    "spark = SparkSession.builder \\\n",
    "    .appName(\"TestSpark\") \\\n",
    "    .config(\"spark.submit.deployMode\", \"client\") \\\n",
    "    .config(\"spark.excludeOnFailure.enabled\", \"true\") \\\n",
    "    .master(\"yarn\") \\\n",
    "    .getOrCreate()"
   ]
  },
  {
   "cell_type": "code",
   "execution_count": 2,
   "id": "049719ed-0702-43e6-ac0c-3c4ee464ad0f",
   "metadata": {},
   "outputs": [],
   "source": [
    "spark.sparkContext.setLogLevel(\"ERROR\")"
   ]
  },
  {
   "cell_type": "code",
   "execution_count": 3,
   "id": "9b8e695f-9b43-47ea-8a20-f9b842287849",
   "metadata": {},
   "outputs": [],
   "source": [
    "import time"
   ]
  },
  {
   "cell_type": "code",
   "execution_count": 4,
   "id": "cef343f5-61b8-4e3d-8e18-d2233270d15a",
   "metadata": {},
   "outputs": [
    {
     "name": "stderr",
     "output_type": "stream",
     "text": [
      "[Stage 1:=======================================================> (33 + 1) / 34]"
     ]
    },
    {
     "name": "stdout",
     "output_type": "stream",
     "text": [
      "53187005\n",
      "24.983969926834106\n"
     ]
    },
    {
     "name": "stderr",
     "output_type": "stream",
     "text": [
      "                                                                                "
     ]
    }
   ],
   "source": [
    "start_time = time.time()\n",
    "\n",
    "train_path1 = \"alluxio:/usr/ubuntu/data/classweights-43-21/train_df.parquet\"\n",
    "\n",
    "train1 = spark.read.parquet(train_path1).cache()\n",
    "print(train1.count())\n",
    "print(time.time() - start_time)"
   ]
  },
  {
   "cell_type": "code",
   "execution_count": 5,
   "id": "8a7c9df5-f2b6-4ea4-ba16-fb57559a7660",
   "metadata": {},
   "outputs": [
    {
     "name": "stderr",
     "output_type": "stream",
     "text": [
      "[Stage 4:=======================================================> (33 + 1) / 34]"
     ]
    },
    {
     "name": "stdout",
     "output_type": "stream",
     "text": [
      "53187005\n",
      "11.541065454483032\n"
     ]
    },
    {
     "name": "stderr",
     "output_type": "stream",
     "text": [
      "                                                                                "
     ]
    }
   ],
   "source": [
    "start_time = time.time()\n",
    "\n",
    "train_path2 = \"hdfs:/usr/ubuntu/data/classweights-43-21/train_df.parquet\"\n",
    "\n",
    "train2 = spark.read.parquet(train_path2).cache()\n",
    "print(train2.count())\n",
    "print(time.time() - start_time)"
   ]
  },
  {
   "cell_type": "code",
   "execution_count": 6,
   "id": "b92822e2-2887-4863-80d1-a9b69cf58a15",
   "metadata": {},
   "outputs": [
    {
     "name": "stderr",
     "output_type": "stream",
     "text": [
      "[Stage 7:===========================================>             (26 + 8) / 34]"
     ]
    },
    {
     "name": "stdout",
     "output_type": "stream",
     "text": [
      "53187005\n",
      "8.252143859863281\n"
     ]
    },
    {
     "name": "stderr",
     "output_type": "stream",
     "text": [
      "                                                                                "
     ]
    }
   ],
   "source": [
    "start_time = time.time()\n",
    "\n",
    "train1.unpersist()\n",
    "train1 = spark.read.parquet(train_path1).cache()\n",
    "print(train1.count())\n",
    "print(time.time() - start_time)"
   ]
  },
  {
   "cell_type": "code",
   "execution_count": 7,
   "id": "5df28916-af91-4e57-a2a1-1d8d539b138d",
   "metadata": {},
   "outputs": [
    {
     "name": "stderr",
     "output_type": "stream",
     "text": [
      "[Stage 10:======================================================> (33 + 1) / 34]"
     ]
    },
    {
     "name": "stdout",
     "output_type": "stream",
     "text": [
      "53187005\n",
      "6.795085430145264\n"
     ]
    },
    {
     "name": "stderr",
     "output_type": "stream",
     "text": [
      "                                                                                "
     ]
    }
   ],
   "source": [
    "start_time = time.time()\n",
    "\n",
    "train2.unpersist()\n",
    "\n",
    "train2 = spark.read.parquet(train_path2).cache()\n",
    "print(train2.count())\n",
    "print(time.time() - start_time)"
   ]
  },
  {
   "cell_type": "code",
   "execution_count": null,
   "id": "3f23d5e5-9495-4b9e-accc-c640746e9eb4",
   "metadata": {},
   "outputs": [],
   "source": []
  }
 ],
 "metadata": {
  "kernelspec": {
   "display_name": "Python (spark_env)",
   "language": "python",
   "name": "spark_env"
  },
  "language_info": {
   "codemirror_mode": {
    "name": "ipython",
    "version": 3
   },
   "file_extension": ".py",
   "mimetype": "text/x-python",
   "name": "python",
   "nbconvert_exporter": "python",
   "pygments_lexer": "ipython3",
   "version": "3.10.12"
  }
 },
 "nbformat": 4,
 "nbformat_minor": 5
}
