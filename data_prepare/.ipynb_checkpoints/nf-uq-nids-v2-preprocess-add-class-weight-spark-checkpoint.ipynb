{
 "cells": [
  {
   "cell_type": "code",
   "execution_count": 1,
   "id": "36ecd942",
   "metadata": {
    "execution": {
     "iopub.execute_input": "2025-06-07T18:37:10.097873Z",
     "iopub.status.busy": "2025-06-07T18:37:10.097584Z",
     "iopub.status.idle": "2025-06-07T18:37:11.065480Z",
     "shell.execute_reply": "2025-06-07T18:37:11.064606Z"
    },
    "executionInfo": {
     "elapsed": 5508,
     "status": "ok",
     "timestamp": 1748966391035,
     "user": {
      "displayName": "Ho Hoang Thien B2104825",
      "userId": "08201359454329025516"
     },
     "user_tz": -420
    },
    "id": "lRDPgxLi29aQ",
    "papermill": {
     "duration": 0.974149,
     "end_time": "2025-06-07T18:37:11.066959",
     "exception": false,
     "start_time": "2025-06-07T18:37:10.092810",
     "status": "completed"
    },
    "tags": []
   },
   "outputs": [],
   "source": [
    "import os\n",
    "import uuid\n",
    "from collections import Counter\n",
    "\n",
    "import matplotlib.pyplot as plt\n",
    "import numpy as np\n",
    "\n",
    "from pyspark.sql import SparkSession\n",
    "from pyspark.sql.functions import (\n",
    "    col,\n",
    "    count,\n",
    "    isnull,\n",
    "    ntile,\n",
    "    rand,\n",
    "    when,\n",
    ")\n",
    "from pyspark.sql.window import Window\n",
    "from pyspark.sql.types import (\n",
    "    ArrayType,\n",
    "    DoubleType,\n",
    "    FloatType,\n",
    "    StructField,\n",
    "    StructType,\n",
    ")\n",
    "\n",
    "from pyspark.ml.feature import StringIndexer, StandardScaler, VectorAssembler\n",
    "from pyspark.ml.linalg import Vectors, VectorUDT"
   ]
  },
  {
   "cell_type": "code",
   "execution_count": 8,
   "id": "5c0569ba",
   "metadata": {
    "execution": {
     "iopub.execute_input": "2025-06-07T18:37:11.074211Z",
     "iopub.status.busy": "2025-06-07T18:37:11.073810Z",
     "iopub.status.idle": "2025-06-07T18:37:18.007483Z",
     "shell.execute_reply": "2025-06-07T18:37:18.006078Z"
    },
    "executionInfo": {
     "elapsed": 13316,
     "status": "ok",
     "timestamp": 1748966404352,
     "user": {
      "displayName": "Ho Hoang Thien B2104825",
      "userId": "08201359454329025516"
     },
     "user_tz": -420
    },
    "id": "wxmTsCQYw9T0",
    "outputId": "ff063170-71fa-41bd-b70d-d284d27998c7",
    "papermill": {
     "duration": 6.938791,
     "end_time": "2025-06-07T18:37:18.009065",
     "exception": false,
     "start_time": "2025-06-07T18:37:11.070274",
     "status": "completed"
    },
    "tags": []
   },
   "outputs": [
    {
     "name": "stdout",
     "output_type": "stream",
     "text": [
      "Initializing Spark session...\n"
     ]
    }
   ],
   "source": [
    "print(\"Initializing Spark session...\")\n",
    "\n",
    "from pyspark.sql import SparkSession\n",
    "\n",
    "spark = SparkSession.builder \\\n",
    "    .appName(\"TestSpark\") \\\n",
    "    .config(\"spark.submit.deployMode\", \"client\") \\\n",
    "    .config(\"spark.excludeOnFailure.enabled\", \"true\") \\\n",
    "    .master(\"yarn\") \\\n",
    "    .getOrCreate()\n",
    "    \n",
    "spark.sparkContext.setLogLevel(\"ERROR\")"
   ]
  },
  {
   "cell_type": "code",
   "execution_count": 3,
   "id": "9bbea2d3",
   "metadata": {
    "execution": {
     "iopub.execute_input": "2025-06-07T18:37:18.017784Z",
     "iopub.status.busy": "2025-06-07T18:37:18.017059Z",
     "iopub.status.idle": "2025-06-07T18:38:32.757554Z",
     "shell.execute_reply": "2025-06-07T18:38:32.756674Z"
    },
    "executionInfo": {
     "elapsed": 108913,
     "status": "ok",
     "timestamp": 1748966513261,
     "user": {
      "displayName": "Ho Hoang Thien B2104825",
      "userId": "08201359454329025516"
     },
     "user_tz": -420
    },
    "id": "UoMnd0aP3IeU",
    "outputId": "e982f67e-561f-4097-eea9-bbd2c123d064",
    "papermill": {
     "duration": 74.746787,
     "end_time": "2025-06-07T18:38:32.759659",
     "exception": false,
     "start_time": "2025-06-07T18:37:18.012872",
     "status": "completed"
    },
    "tags": []
   },
   "outputs": [
    {
     "name": "stderr",
     "output_type": "stream",
     "text": [
      "[Stage 1:======================================================>(102 + 1) / 103]\r"
     ]
    },
    {
     "name": "stdout",
     "output_type": "stream",
     "text": [
      "Tổng số dòng (mẫu): 75987976\n"
     ]
    },
    {
     "name": "stderr",
     "output_type": "stream",
     "text": [
      "                                                                                \r"
     ]
    }
   ],
   "source": [
    "# Đọc dữ liệu gốc và lấy mẫu nhỏ\n",
    "df = spark.read.option(\"header\", \"true\").csv(\"hdfs://master:9000/data/NF-UQ-NIDS-v2.csv\")\n",
    "# df = df.sample(fraction=0.50, seed=42)  #Điều chỉnh nếu muốn đọc một phần nhỏ để TEST\n",
    "\n",
    "total_rows = df.count()\n",
    "print(f\"Tổng số dòng (mẫu): {total_rows}\")\n",
    "\n",
    "# Điều chỉnh partition\n",
    "# if total_rows < 1000000:  # Rất nhỏ (<1M)\n",
    "#     df = df.repartition(20)  # Giảm partition để giảm I/O\n",
    "#     spark.conf.set(\"spark.sql.adaptive.enabled\", \"false\")\n",
    "# elif total_rows < 10000000:  # Nhỏ (<10M)\n",
    "#     df = df.repartition(50)\n",
    "#     spark.conf.set(\"spark.sql.adaptive.enabled\", \"false\")\n",
    "# else:\n",
    "#     df = df.repartition(100)"
   ]
  },
  {
   "attachments": {
    "ca3037cf-e56c-4be9-85d6-24b134d5548f.png": {
     "image/png": "[encoded data removed]"
    }
   },
   "cell_type": "markdown",
   "id": "16b4445b",
   "metadata": {
    "papermill": {
     "duration": 0.0073,
     "end_time": "2025-06-07T18:38:32.774922",
     "exception": false,
     "start_time": "2025-06-07T18:38:32.767622",
     "status": "completed"
    },
    "tags": []
   },
   "source": [
    "![Screenshot 2025-06-01 143019.png](attachment:ca3037cf-e56c-4be9-85d6-24b134d5548f.png)"
   ]
  },
  {
   "cell_type": "code",
   "execution_count": 4,
   "id": "fe8a7e0d",
   "metadata": {
    "execution": {
     "iopub.execute_input": "2025-06-07T18:38:32.792217Z",
     "iopub.status.busy": "2025-06-07T18:38:32.791805Z",
     "iopub.status.idle": "2025-06-07T18:38:32.827970Z",
     "shell.execute_reply": "2025-06-07T18:38:32.826996Z"
    },
    "executionInfo": {
     "elapsed": 559,
     "status": "ok",
     "timestamp": 1748966513744,
     "user": {
      "displayName": "Ho Hoang Thien B2104825",
      "userId": "08201359454329025516"
     },
     "user_tz": -420
    },
    "id": "T_d-Bpw83tOE",
    "jupyter": {
     "source_hidden": true
    },
    "papermill": {
     "duration": 0.047581,
     "end_time": "2025-06-07T18:38:32.830214",
     "exception": false,
     "start_time": "2025-06-07T18:38:32.782633",
     "status": "completed"
    },
    "tags": []
   },
   "outputs": [],
   "source": [
    "def preprocess_nids_data_with_weights(df, spark, save_path=\"saves\"):\n",
    "    print(\"Bắt đầu tiền xử lý dữ liệu...\")\n",
    "    total_rows_initial = df.count() # Lưu tổng số dòng ban đầu\n",
    "    print(f\"Đã phân vùng dữ liệu. Số dòng: {total_rows_initial}\")\n",
    "\n",
    "    # 1. Loại bỏ cột\n",
    "    print(\"Bước 1: Loại bỏ các cột 'Label' và 'Dataset'...\")\n",
    "    cols_to_drop_initial = ['Label', 'Dataset']\n",
    "    df = df.drop(*[col_name for col_name in cols_to_drop_initial if col_name in df.columns])\n",
    "    print(f\"Đã loại bỏ các cột: {[col_name for col_name in cols_to_drop_initial if col_name in df.columns]}\")\n",
    "\n",
    "    # Lấy danh sách các nhãn cần giữ lại (trước khi xử lý nhãn chính thức)\n",
    "    # Lưu ý: 'Attack' phải tồn tại ở đây\n",
    "    if 'Attack' in df.columns:\n",
    "        label_counts_before_filter = df.groupBy(\"Attack\").count()\n",
    "        # Loại bỏ các Attack có số lượng quá thấp (nhỏ hơn 5000)\n",
    "        valid_labels = label_counts_before_filter.filter(col(\"count\") >= 5000).select(\"Attack\").rdd.flatMap(lambda x: x).collect()\n",
    "        df = df.filter(col(\"Attack\").isin(valid_labels))\n",
    "        print(f\"Đã lọc các Attack có số lượng < 5000. Số Attack còn lại: {len(valid_labels)}\")\n",
    "    else:\n",
    "        print(\"Cột 'Attack' không tồn tại, không thể lọc theo số lượng.\")\n",
    "\n",
    "\n",
    "    # 2. Chuyển đổi kiểu dữ liệu\n",
    "    print(\"Bước 2: Chuyển đổi kiểu dữ liệu các cột số...\")\n",
    "    numeric_cols = [\n",
    "        \"L4_SRC_PORT\", \"L4_DST_PORT\", \"IN_BYTES\", \"IN_PKTS\", \"OUT_BYTES\", \"OUT_PKTS\",\n",
    "        \"FLOW_DURATION_MILLISECONDS\", \"DURATION_IN\", \"DURATION_OUT\", \"MIN_TTL\", \"MAX_TTL\",\n",
    "        \"LONGEST_FLOW_PKT\", \"SHORTEST_FLOW_PKT\", \"MIN_IP_PKT_LEN\", \"MAX_IP_PKT_LEN\",\n",
    "        \"SRC_TO_DST_SECOND_BYTES\", \"DST_TO_SRC_SECOND_BYTES\", \"RETRANSMITTED_IN_BYTES\",\n",
    "        \"RETRANSMITTED_IN_PKTS\", \"RETRANSMITTED_OUT_BYTES\", \"RETRANSMITTED_OUT_PKTS\",\n",
    "        \"SRC_TO_DST_AVG_THROUGHPUT\", \"DST_TO_SRC_AVG_THROUGHPUT\", \"NUM_PKTS_UP_TO_128_BYTES\",\n",
    "        \"NUM_PKTS_128_TO_256_BYTES\", \"NUM_PKTS_256_TO_512_BYTES\", \"NUM_PKTS_512_TO_1024_BYTES\",\n",
    "        \"NUM_PKTS_1024_TO_1514_BYTES\", \"TCP_WIN_MAX_IN\", \"TCP_WIN_MAX_OUT\", \"DNS_QUERY_ID\",\n",
    "        \"DNS_TTL_ANSWER\", \"FTP_COMMAND_RET_CODE\",\n",
    "        \"ICMP_TYPE\", \"ICMP_IPV4_TYPE\"\n",
    "    ]\n",
    "    for col_name in numeric_cols:\n",
    "        if col_name in df.columns:\n",
    "            df = df.withColumn(col_name, col(col_name).cast(DoubleType()))\n",
    "    print(f\"Đã chuyển đổi các cột số: {[col for col in numeric_cols if col in df.columns]}\")\n",
    "\n",
    "    # 3. Chuyển đổi cột chuỗi (không phải Attack)\n",
    "    print(\"Bước 3: Chuyển đổi các cột chuỗi thành số...\")\n",
    "    string_cols = [c[0] for c in df.dtypes if c[1] == 'string']\n",
    "    string_cols_to_index = [col_name for col_name in string_cols if col_name not in ['Attack']]\n",
    "    indexer_models = []\n",
    "    for column in string_cols_to_index:\n",
    "        indexer = StringIndexer(inputCol=column, outputCol=column + \"_index\", handleInvalid=\"skip\") # Thêm handleInvalid\n",
    "        indexer_model = indexer.fit(df)\n",
    "        df = indexer_model.transform(df).drop(indexer.getInputCol())\n",
    "        indexer_model.write().overwrite().save(os.path.join(save_path, f\"string_indexer_{column}\"))\n",
    "        indexer_models.append(indexer_model)\n",
    "    print(f\"Đã lưu mô hình StringIndexer cho các cột: {string_cols_to_index}\")\n",
    "\n",
    "    # 4. Chuẩn hóa đặc trưng\n",
    "    print(\"Bước 4: Chọn và chuẩn hóa các đặc trưng số...\")\n",
    "    # Lấy lại danh sách các cột feature sau khi StringIndexer\n",
    "    feature_cols = [c[0] for c in df.dtypes if c[1] in ('int', 'double', 'float') and c[0] not in ['Attack']]\n",
    "    # Thêm các cột đã được StringIndexer nếu chúng là số nguyên\n",
    "    feature_cols.extend([c[0] for c in df.dtypes if c[1] == 'double' and c[0].endswith('_index') and c[0] not in feature_cols])\n",
    "    # Đảm bảo Attack không có trong feature_cols\n",
    "    feature_cols = [f for f in feature_cols if f != 'Attack']\n",
    "\n",
    "    print(f\"Các đặc trưng số được chọn để chuẩn hóa: {feature_cols}\")\n",
    "\n",
    "    assembler = VectorAssembler(inputCols=feature_cols, outputCol=\"raw_features\")\n",
    "    df = assembler.transform(df)\n",
    "\n",
    "    scaler = StandardScaler(inputCol=\"raw_features\", outputCol=\"scaled_features\")\n",
    "    scaler_model = scaler.fit(df)\n",
    "    df = scaler_model.transform(df).drop(\"raw_features\")\n",
    "    scaler_model.write().overwrite().save(os.path.join(save_path, \"standard_scaler\"))\n",
    "    print(f\"Đã lưu mô hình StandardScaler\")\n",
    "\n",
    "    # 5. Xử lý nhãn và tính toán trọng số lớp\n",
    "    print(\"Bước 5: Xử lý cột nhãn và tính trọng số lớp...\")\n",
    "    label_indexer_model = None\n",
    "    num_classes = None\n",
    "    if 'Attack' in df.columns:\n",
    "        # A. Mã hóa nhãn\n",
    "        label_indexer = StringIndexer(inputCol=\"Attack\", outputCol=\"label\", handleInvalid=\"skip\") # Thêm handleInvalid\n",
    "        label_indexer_model = label_indexer.fit(df)\n",
    "        df = label_indexer_model.transform(df).drop(\"Attack\")\n",
    "        label_indexer_model.write().overwrite().save(os.path.join(save_path, \"label_indexer\"))\n",
    "        num_classes = len(label_indexer_model.labels)\n",
    "        print(f\"Số lượng lớp (num_classes): {num_classes}\")\n",
    "\n",
    "        # B. Tính toán trọng số lớp\n",
    "        label_counts_df_final = df.groupBy(\"label\").count()\n",
    "        total_samples_final = df.count()\n",
    "        label_counts_map = {float(row[\"label\"]): row[\"count\"] for row in label_counts_df_final.collect()}\n",
    "\n",
    "        class_weights_map = {}\n",
    "        if num_classes > 0: # Tránh chia cho 0 nếu không có lớp nào\n",
    "            for label, count in label_counts_map.items():\n",
    "                # Công thức trọng số 'balanced': tổng số mẫu / (số lượng lớp * số mẫu của lớp)\n",
    "                class_weights_map[label] = total_samples_final / (num_classes * count)\n",
    "        else:\n",
    "             print(\"Không có lớp nào được tìm thấy để tính trọng số.\")\n",
    "\n",
    "        print(\"Trọng số lớp đã tính toán:\")\n",
    "        # In các nhãn gốc cùng với trọng số của chúng\n",
    "        original_labels_map = {idx: label for idx, label in enumerate(label_indexer_model.labels)}\n",
    "        for encoded_label, weight in class_weights_map.items():\n",
    "            print(f\"  {original_labels_map.get(int(encoded_label), 'N/A')} (encoded: {int(encoded_label)}): {weight:.4f}\")\n",
    "\n",
    "        from pyspark.sql.functions import udf\n",
    "\n",
    "        class_weights_map_broadcast = spark.sparkContext.broadcast(class_weights_map)\n",
    "\n",
    "        @udf(DoubleType())\n",
    "        def get_weight_udf(label_value):\n",
    "            # Đảm bảo label_value là float/int để khớp với key trong map\n",
    "            return class_weights_map_broadcast.value.get(float(label_value), 1.0) # Mặc định 1.0 nếu không tìm thấy (should not happen)\n",
    "\n",
    "        df = df.withColumn(\"weight\", get_weight_udf(col(\"label\")))\n",
    "        print(\"Đã thêm cột 'weight' vào DataFrame.\")\n",
    "\n",
    "    else:\n",
    "        print(\"Không tìm thấy cột nhãn 'Attack'. Không thể tính trọng số lớp.\")\n",
    "        num_classes = None\n",
    "        label_indexer_model = None\n",
    "\n",
    "    # 6. Chỉ giữ scaled_features, label và weight\n",
    "    print(\"Bước 6: Chỉ giữ cột scaled_features, label và weight...\")\n",
    "    final_cols = ['scaled_features', 'label', 'weight']\n",
    "    df = df.select(*final_cols)\n",
    "    print(f\"Các cột được giữ: {df.columns}\")\n",
    "\n",
    "    print(\"Hoàn tất tiền xử lý dữ liệu.\")\n",
    "    return df, indexer_models, scaler_model, label_indexer_model, num_classes"
   ]
  },
  {
   "cell_type": "code",
   "execution_count": 5,
   "id": "5e704bd1",
   "metadata": {
    "execution": {
     "iopub.execute_input": "2025-06-07T18:38:32.846928Z",
     "iopub.status.busy": "2025-06-07T18:38:32.846244Z",
     "iopub.status.idle": "2025-06-07T19:41:17.291201Z",
     "shell.execute_reply": "2025-06-07T19:41:17.289037Z"
    },
    "executionInfo": {
     "elapsed": 6761722,
     "status": "ok",
     "timestamp": 1748977318598,
     "user": {
      "displayName": "Ho Hoang Thien B2104825",
      "userId": "08201359454329025516"
     },
     "user_tz": -420
    },
    "id": "wgJirb5_3wNF",
    "outputId": "21d2894d-e7c3-4c1a-c64d-ebb94b07b14c",
    "papermill": {
     "duration": 3764.455334,
     "end_time": "2025-06-07T19:41:17.293204",
     "exception": false,
     "start_time": "2025-06-07T18:38:32.837870",
     "status": "completed"
    },
    "tags": []
   },
   "outputs": [
    {
     "name": "stdout",
     "output_type": "stream",
     "text": [
      "Bắt đầu tiền xử lý dữ liệu...\n"
     ]
    },
    {
     "name": "stderr",
     "output_type": "stream",
     "text": [
      "                                                                                \r"
     ]
    },
    {
     "name": "stdout",
     "output_type": "stream",
     "text": [
      "Đã phân vùng dữ liệu. Số dòng: 75987976\n",
      "Bước 1: Loại bỏ các cột 'Label' và 'Dataset'...\n",
      "Đã loại bỏ các cột: []\n"
     ]
    },
    {
     "name": "stderr",
     "output_type": "stream",
     "text": [
      "[Stage 6:>                                                         (0 + 6) / 30]\r"
     ]
    },
    {
     "ename": "Py4JJavaError",
     "evalue": "An error occurred while calling z:org.apache.spark.api.python.PythonRDD.collectAndServe.\n: org.apache.spark.SparkException: Job aborted due to stage failure: \nAborting TaskSet 6.0 because task 20 (partition 20)\ncannot run anywhere due to node and executor excludeOnFailure.\nMost recent failure:\nLost task 20.0 in stage 6.0 (TID 323) (worker3 executor 2): org.apache.spark.api.python.PythonException: Traceback (most recent call last):\n  File \"/usr/local/hadoop/tmp/nm-local-dir/usercache/ubuntu/appcache/application_1759911303345_0011/container_1759911303345_0011_01_000003/pyspark.zip/pyspark/worker.py\", line 1100, in main\n    raise PySparkRuntimeError(\npyspark.errors.exceptions.base.PySparkRuntimeError: [PYTHON_VERSION_MISMATCH] Python in worker has different version (3, 8) than that in driver 3.10, PySpark cannot run with different minor versions.\nPlease check environment variables PYSPARK_PYTHON and PYSPARK_DRIVER_PYTHON are correctly set.\n\n\tat org.apache.spark.api.python.BasePythonRunner$ReaderIterator.handlePythonException(PythonRunner.scala:572)\n\tat org.apache.spark.api.python.PythonRunner$$anon$3.read(PythonRunner.scala:784)\n\tat org.apache.spark.api.python.PythonRunner$$anon$3.read(PythonRunner.scala:766)\n\tat org.apache.spark.api.python.BasePythonRunner$ReaderIterator.hasNext(PythonRunner.scala:525)\n\tat org.apache.spark.InterruptibleIterator.hasNext(InterruptibleIterator.scala:37)\n\tat scala.collection.Iterator.foreach(Iterator.scala:943)\n\tat scala.collection.Iterator.foreach$(Iterator.scala:943)\n\tat org.apache.spark.InterruptibleIterator.foreach(InterruptibleIterator.scala:28)\n\tat scala.collection.generic.Growable.$plus$plus$eq(Growable.scala:62)\n\tat scala.collection.generic.Growable.$plus$plus$eq$(Growable.scala:53)\n\tat scala.collection.mutable.ArrayBuffer.$plus$plus$eq(ArrayBuffer.scala:105)\n\tat scala.collection.mutable.ArrayBuffer.$plus$plus$eq(ArrayBuffer.scala:49)\n\tat scala.collection.TraversableOnce.to(TraversableOnce.scala:366)\n\tat scala.collection.TraversableOnce.to$(TraversableOnce.scala:364)\n\tat org.apache.spark.InterruptibleIterator.to(InterruptibleIterator.scala:28)\n\tat scala.collection.TraversableOnce.toBuffer(TraversableOnce.scala:358)\n\tat scala.collection.TraversableOnce.toBuffer$(TraversableOnce.scala:358)\n\tat org.apache.spark.InterruptibleIterator.toBuffer(InterruptibleIterator.scala:28)\n\tat scala.collection.TraversableOnce.toArray(TraversableOnce.scala:345)\n\tat scala.collection.TraversableOnce.toArray$(TraversableOnce.scala:339)\n\tat org.apache.spark.InterruptibleIterator.toArray(InterruptibleIterator.scala:28)\n\tat org.apache.spark.rdd.RDD.$anonfun$collect$2(RDD.scala:1049)\n\tat org.apache.spark.SparkContext.$anonfun$runJob$5(SparkContext.scala:2433)\n\tat org.apache.spark.scheduler.ResultTask.runTask(ResultTask.scala:93)\n\tat org.apache.spark.TaskContext.runTaskWithListeners(TaskContext.scala:166)\n\tat org.apache.spark.scheduler.Task.run(Task.scala:141)\n\tat org.apache.spark.executor.Executor$TaskRunner.$anonfun$run$4(Executor.scala:621)\n\tat org.apache.spark.util.SparkErrorUtils.tryWithSafeFinally(SparkErrorUtils.scala:64)\n\tat org.apache.spark.util.SparkErrorUtils.tryWithSafeFinally$(SparkErrorUtils.scala:61)\n\tat org.apache.spark.util.Utils$.tryWithSafeFinally(Utils.scala:94)\n\tat org.apache.spark.executor.Executor$TaskRunner.run(Executor.scala:624)\n\tat java.util.concurrent.ThreadPoolExecutor.runWorker(ThreadPoolExecutor.java:1149)\n\tat java.util.concurrent.ThreadPoolExecutor$Worker.run(ThreadPoolExecutor.java:624)\n\tat java.lang.Thread.run(Thread.java:750)\n\n\nExcludeOnFailure behavior can be configured via spark.excludeOnFailure.*.\n\n\tat org.apache.spark.scheduler.DAGScheduler.failJobAndIndependentStages(DAGScheduler.scala:2898)\n\tat org.apache.spark.scheduler.DAGScheduler.$anonfun$abortStage$2(DAGScheduler.scala:2834)\n\tat org.apache.spark.scheduler.DAGScheduler.$anonfun$abortStage$2$adapted(DAGScheduler.scala:2833)\n\tat scala.collection.mutable.ResizableArray.foreach(ResizableArray.scala:62)\n\tat scala.collection.mutable.ResizableArray.foreach$(ResizableArray.scala:55)\n\tat scala.collection.mutable.ArrayBuffer.foreach(ArrayBuffer.scala:49)\n\tat org.apache.spark.scheduler.DAGScheduler.abortStage(DAGScheduler.scala:2833)\n\tat org.apache.spark.scheduler.DAGScheduler.$anonfun$handleTaskSetFailed$1(DAGScheduler.scala:1253)\n\tat org.apache.spark.scheduler.DAGScheduler.$anonfun$handleTaskSetFailed$1$adapted(DAGScheduler.scala:1253)\n\tat scala.Option.foreach(Option.scala:407)\n\tat org.apache.spark.scheduler.DAGScheduler.handleTaskSetFailed(DAGScheduler.scala:1253)\n\tat org.apache.spark.scheduler.DAGSchedulerEventProcessLoop.doOnReceive(DAGScheduler.scala:3102)\n\tat org.apache.spark.scheduler.DAGSchedulerEventProcessLoop.onReceive(DAGScheduler.scala:3036)\n\tat org.apache.spark.scheduler.DAGSchedulerEventProcessLoop.onReceive(DAGScheduler.scala:3025)\n\tat org.apache.spark.util.EventLoop$$anon$1.run(EventLoop.scala:49)\n\tat org.apache.spark.scheduler.DAGScheduler.runJob(DAGScheduler.scala:995)\n\tat org.apache.spark.SparkContext.runJob(SparkContext.scala:2393)\n\tat org.apache.spark.SparkContext.runJob(SparkContext.scala:2414)\n\tat org.apache.spark.SparkContext.runJob(SparkContext.scala:2433)\n\tat org.apache.spark.SparkContext.runJob(SparkContext.scala:2458)\n\tat org.apache.spark.rdd.RDD.$anonfun$collect$1(RDD.scala:1049)\n\tat org.apache.spark.rdd.RDDOperationScope$.withScope(RDDOperationScope.scala:151)\n\tat org.apache.spark.rdd.RDDOperationScope$.withScope(RDDOperationScope.scala:112)\n\tat org.apache.spark.rdd.RDD.withScope(RDD.scala:410)\n\tat org.apache.spark.rdd.RDD.collect(RDD.scala:1048)\n\tat org.apache.spark.api.python.PythonRDD$.collectAndServe(PythonRDD.scala:195)\n\tat org.apache.spark.api.python.PythonRDD.collectAndServe(PythonRDD.scala)\n\tat sun.reflect.NativeMethodAccessorImpl.invoke0(Native Method)\n\tat sun.reflect.NativeMethodAccessorImpl.invoke(NativeMethodAccessorImpl.java:62)\n\tat sun.reflect.DelegatingMethodAccessorImpl.invoke(DelegatingMethodAccessorImpl.java:43)\n\tat java.lang.reflect.Method.invoke(Method.java:498)\n\tat py4j.reflection.MethodInvoker.invoke(MethodInvoker.java:244)\n\tat py4j.reflection.ReflectionEngine.invoke(ReflectionEngine.java:374)\n\tat py4j.Gateway.invoke(Gateway.java:282)\n\tat py4j.commands.AbstractCommand.invokeMethod(AbstractCommand.java:132)\n\tat py4j.commands.CallCommand.execute(CallCommand.java:79)\n\tat py4j.ClientServerConnection.waitForCommands(ClientServerConnection.java:182)\n\tat py4j.ClientServerConnection.run(ClientServerConnection.java:106)\n\tat java.lang.Thread.run(Thread.java:750)\n",
     "output_type": "error",
     "traceback": [
      "\u001b[0;31m---------------------------------------------------------------------------\u001b[0m",
      "\u001b[0;31mPy4JJavaError\u001b[0m                             Traceback (most recent call last)",
      "Cell \u001b[0;32mIn[5], line 3\u001b[0m\n\u001b[1;32m      1\u001b[0m \u001b[38;5;66;03m# Tiền xử lý và chia split\u001b[39;00m\n\u001b[1;32m      2\u001b[0m processed_df, string_indexer_models, scaler_model, label_indexer_model, num_classes \u001b[38;5;241m=\u001b[39m \\\n\u001b[0;32m----> 3\u001b[0m     \u001b[43mpreprocess_nids_data_with_weights\u001b[49m\u001b[43m(\u001b[49m\u001b[43mdf\u001b[49m\u001b[43m,\u001b[49m\u001b[43m \u001b[49m\u001b[43mspark\u001b[49m\u001b[43m,\u001b[49m\u001b[43m \u001b[49m\u001b[43msave_path\u001b[49m\u001b[38;5;241;43m=\u001b[39;49m\u001b[38;5;124;43m\"\u001b[39;49m\u001b[38;5;124;43mpreprocessed_data\u001b[39;49m\u001b[38;5;124;43m\"\u001b[39;49m\u001b[43m)\u001b[49m\n",
      "Cell \u001b[0;32mIn[4], line 17\u001b[0m, in \u001b[0;36mpreprocess_nids_data_with_weights\u001b[0;34m(df, spark, save_path)\u001b[0m\n\u001b[1;32m     15\u001b[0m label_counts_before_filter \u001b[38;5;241m=\u001b[39m df\u001b[38;5;241m.\u001b[39mgroupBy(\u001b[38;5;124m\"\u001b[39m\u001b[38;5;124mAttack\u001b[39m\u001b[38;5;124m\"\u001b[39m)\u001b[38;5;241m.\u001b[39mcount()\n\u001b[1;32m     16\u001b[0m \u001b[38;5;66;03m# Loại bỏ các Attack có số lượng quá thấp (nhỏ hơn 5000)\u001b[39;00m\n\u001b[0;32m---> 17\u001b[0m valid_labels \u001b[38;5;241m=\u001b[39m \u001b[43mlabel_counts_before_filter\u001b[49m\u001b[38;5;241;43m.\u001b[39;49m\u001b[43mfilter\u001b[49m\u001b[43m(\u001b[49m\u001b[43mcol\u001b[49m\u001b[43m(\u001b[49m\u001b[38;5;124;43m\"\u001b[39;49m\u001b[38;5;124;43mcount\u001b[39;49m\u001b[38;5;124;43m\"\u001b[39;49m\u001b[43m)\u001b[49m\u001b[43m \u001b[49m\u001b[38;5;241;43m>\u001b[39;49m\u001b[38;5;241;43m=\u001b[39;49m\u001b[43m \u001b[49m\u001b[38;5;241;43m5000\u001b[39;49m\u001b[43m)\u001b[49m\u001b[38;5;241;43m.\u001b[39;49m\u001b[43mselect\u001b[49m\u001b[43m(\u001b[49m\u001b[38;5;124;43m\"\u001b[39;49m\u001b[38;5;124;43mAttack\u001b[39;49m\u001b[38;5;124;43m\"\u001b[39;49m\u001b[43m)\u001b[49m\u001b[38;5;241;43m.\u001b[39;49m\u001b[43mrdd\u001b[49m\u001b[38;5;241;43m.\u001b[39;49m\u001b[43mflatMap\u001b[49m\u001b[43m(\u001b[49m\u001b[38;5;28;43;01mlambda\u001b[39;49;00m\u001b[43m \u001b[49m\u001b[43mx\u001b[49m\u001b[43m:\u001b[49m\u001b[43m \u001b[49m\u001b[43mx\u001b[49m\u001b[43m)\u001b[49m\u001b[38;5;241;43m.\u001b[39;49m\u001b[43mcollect\u001b[49m\u001b[43m(\u001b[49m\u001b[43m)\u001b[49m\n\u001b[1;32m     18\u001b[0m df \u001b[38;5;241m=\u001b[39m df\u001b[38;5;241m.\u001b[39mfilter(col(\u001b[38;5;124m\"\u001b[39m\u001b[38;5;124mAttack\u001b[39m\u001b[38;5;124m\"\u001b[39m)\u001b[38;5;241m.\u001b[39misin(valid_labels))\n\u001b[1;32m     19\u001b[0m \u001b[38;5;28mprint\u001b[39m(\u001b[38;5;124mf\u001b[39m\u001b[38;5;124m\"\u001b[39m\u001b[38;5;124mĐã lọc các Attack có số lượng < 5000. Số Attack còn lại: \u001b[39m\u001b[38;5;132;01m{\u001b[39;00m\u001b[38;5;28mlen\u001b[39m(valid_labels)\u001b[38;5;132;01m}\u001b[39;00m\u001b[38;5;124m\"\u001b[39m)\n",
      "File \u001b[0;32m~/spark_env/lib/python3.10/site-packages/pyspark/rdd.py:1833\u001b[0m, in \u001b[0;36mRDD.collect\u001b[0;34m(self)\u001b[0m\n\u001b[1;32m   1831\u001b[0m \u001b[38;5;28;01mwith\u001b[39;00m SCCallSiteSync(\u001b[38;5;28mself\u001b[39m\u001b[38;5;241m.\u001b[39mcontext):\n\u001b[1;32m   1832\u001b[0m     \u001b[38;5;28;01massert\u001b[39;00m \u001b[38;5;28mself\u001b[39m\u001b[38;5;241m.\u001b[39mctx\u001b[38;5;241m.\u001b[39m_jvm \u001b[38;5;129;01mis\u001b[39;00m \u001b[38;5;129;01mnot\u001b[39;00m \u001b[38;5;28;01mNone\u001b[39;00m\n\u001b[0;32m-> 1833\u001b[0m     sock_info \u001b[38;5;241m=\u001b[39m \u001b[38;5;28;43mself\u001b[39;49m\u001b[38;5;241;43m.\u001b[39;49m\u001b[43mctx\u001b[49m\u001b[38;5;241;43m.\u001b[39;49m\u001b[43m_jvm\u001b[49m\u001b[38;5;241;43m.\u001b[39;49m\u001b[43mPythonRDD\u001b[49m\u001b[38;5;241;43m.\u001b[39;49m\u001b[43mcollectAndServe\u001b[49m\u001b[43m(\u001b[49m\u001b[38;5;28;43mself\u001b[39;49m\u001b[38;5;241;43m.\u001b[39;49m\u001b[43m_jrdd\u001b[49m\u001b[38;5;241;43m.\u001b[39;49m\u001b[43mrdd\u001b[49m\u001b[43m(\u001b[49m\u001b[43m)\u001b[49m\u001b[43m)\u001b[49m\n\u001b[1;32m   1834\u001b[0m \u001b[38;5;28;01mreturn\u001b[39;00m \u001b[38;5;28mlist\u001b[39m(_load_from_socket(sock_info, \u001b[38;5;28mself\u001b[39m\u001b[38;5;241m.\u001b[39m_jrdd_deserializer))\n",
      "File \u001b[0;32m~/spark_env/lib/python3.10/site-packages/py4j/java_gateway.py:1322\u001b[0m, in \u001b[0;36mJavaMember.__call__\u001b[0;34m(self, *args)\u001b[0m\n\u001b[1;32m   1316\u001b[0m command \u001b[38;5;241m=\u001b[39m proto\u001b[38;5;241m.\u001b[39mCALL_COMMAND_NAME \u001b[38;5;241m+\u001b[39m\\\n\u001b[1;32m   1317\u001b[0m     \u001b[38;5;28mself\u001b[39m\u001b[38;5;241m.\u001b[39mcommand_header \u001b[38;5;241m+\u001b[39m\\\n\u001b[1;32m   1318\u001b[0m     args_command \u001b[38;5;241m+\u001b[39m\\\n\u001b[1;32m   1319\u001b[0m     proto\u001b[38;5;241m.\u001b[39mEND_COMMAND_PART\n\u001b[1;32m   1321\u001b[0m answer \u001b[38;5;241m=\u001b[39m \u001b[38;5;28mself\u001b[39m\u001b[38;5;241m.\u001b[39mgateway_client\u001b[38;5;241m.\u001b[39msend_command(command)\n\u001b[0;32m-> 1322\u001b[0m return_value \u001b[38;5;241m=\u001b[39m \u001b[43mget_return_value\u001b[49m\u001b[43m(\u001b[49m\n\u001b[1;32m   1323\u001b[0m \u001b[43m    \u001b[49m\u001b[43manswer\u001b[49m\u001b[43m,\u001b[49m\u001b[43m \u001b[49m\u001b[38;5;28;43mself\u001b[39;49m\u001b[38;5;241;43m.\u001b[39;49m\u001b[43mgateway_client\u001b[49m\u001b[43m,\u001b[49m\u001b[43m \u001b[49m\u001b[38;5;28;43mself\u001b[39;49m\u001b[38;5;241;43m.\u001b[39;49m\u001b[43mtarget_id\u001b[49m\u001b[43m,\u001b[49m\u001b[43m \u001b[49m\u001b[38;5;28;43mself\u001b[39;49m\u001b[38;5;241;43m.\u001b[39;49m\u001b[43mname\u001b[49m\u001b[43m)\u001b[49m\n\u001b[1;32m   1325\u001b[0m \u001b[38;5;28;01mfor\u001b[39;00m temp_arg \u001b[38;5;129;01min\u001b[39;00m temp_args:\n\u001b[1;32m   1326\u001b[0m     \u001b[38;5;28;01mif\u001b[39;00m \u001b[38;5;28mhasattr\u001b[39m(temp_arg, \u001b[38;5;124m\"\u001b[39m\u001b[38;5;124m_detach\u001b[39m\u001b[38;5;124m\"\u001b[39m):\n",
      "File \u001b[0;32m~/spark_env/lib/python3.10/site-packages/pyspark/errors/exceptions/captured.py:179\u001b[0m, in \u001b[0;36mcapture_sql_exception.<locals>.deco\u001b[0;34m(*a, **kw)\u001b[0m\n\u001b[1;32m    177\u001b[0m \u001b[38;5;28;01mdef\u001b[39;00m\u001b[38;5;250m \u001b[39m\u001b[38;5;21mdeco\u001b[39m(\u001b[38;5;241m*\u001b[39ma: Any, \u001b[38;5;241m*\u001b[39m\u001b[38;5;241m*\u001b[39mkw: Any) \u001b[38;5;241m-\u001b[39m\u001b[38;5;241m>\u001b[39m Any:\n\u001b[1;32m    178\u001b[0m     \u001b[38;5;28;01mtry\u001b[39;00m:\n\u001b[0;32m--> 179\u001b[0m         \u001b[38;5;28;01mreturn\u001b[39;00m \u001b[43mf\u001b[49m\u001b[43m(\u001b[49m\u001b[38;5;241;43m*\u001b[39;49m\u001b[43ma\u001b[49m\u001b[43m,\u001b[49m\u001b[43m \u001b[49m\u001b[38;5;241;43m*\u001b[39;49m\u001b[38;5;241;43m*\u001b[39;49m\u001b[43mkw\u001b[49m\u001b[43m)\u001b[49m\n\u001b[1;32m    180\u001b[0m     \u001b[38;5;28;01mexcept\u001b[39;00m Py4JJavaError \u001b[38;5;28;01mas\u001b[39;00m e:\n\u001b[1;32m    181\u001b[0m         converted \u001b[38;5;241m=\u001b[39m convert_exception(e\u001b[38;5;241m.\u001b[39mjava_exception)\n",
      "File \u001b[0;32m~/spark_env/lib/python3.10/site-packages/py4j/protocol.py:326\u001b[0m, in \u001b[0;36mget_return_value\u001b[0;34m(answer, gateway_client, target_id, name)\u001b[0m\n\u001b[1;32m    324\u001b[0m value \u001b[38;5;241m=\u001b[39m OUTPUT_CONVERTER[\u001b[38;5;28mtype\u001b[39m](answer[\u001b[38;5;241m2\u001b[39m:], gateway_client)\n\u001b[1;32m    325\u001b[0m \u001b[38;5;28;01mif\u001b[39;00m answer[\u001b[38;5;241m1\u001b[39m] \u001b[38;5;241m==\u001b[39m REFERENCE_TYPE:\n\u001b[0;32m--> 326\u001b[0m     \u001b[38;5;28;01mraise\u001b[39;00m Py4JJavaError(\n\u001b[1;32m    327\u001b[0m         \u001b[38;5;124m\"\u001b[39m\u001b[38;5;124mAn error occurred while calling \u001b[39m\u001b[38;5;132;01m{0}\u001b[39;00m\u001b[38;5;132;01m{1}\u001b[39;00m\u001b[38;5;132;01m{2}\u001b[39;00m\u001b[38;5;124m.\u001b[39m\u001b[38;5;130;01m\\n\u001b[39;00m\u001b[38;5;124m\"\u001b[39m\u001b[38;5;241m.\u001b[39m\n\u001b[1;32m    328\u001b[0m         \u001b[38;5;28mformat\u001b[39m(target_id, \u001b[38;5;124m\"\u001b[39m\u001b[38;5;124m.\u001b[39m\u001b[38;5;124m\"\u001b[39m, name), value)\n\u001b[1;32m    329\u001b[0m \u001b[38;5;28;01melse\u001b[39;00m:\n\u001b[1;32m    330\u001b[0m     \u001b[38;5;28;01mraise\u001b[39;00m Py4JError(\n\u001b[1;32m    331\u001b[0m         \u001b[38;5;124m\"\u001b[39m\u001b[38;5;124mAn error occurred while calling \u001b[39m\u001b[38;5;132;01m{0}\u001b[39;00m\u001b[38;5;132;01m{1}\u001b[39;00m\u001b[38;5;132;01m{2}\u001b[39;00m\u001b[38;5;124m. Trace:\u001b[39m\u001b[38;5;130;01m\\n\u001b[39;00m\u001b[38;5;132;01m{3}\u001b[39;00m\u001b[38;5;130;01m\\n\u001b[39;00m\u001b[38;5;124m\"\u001b[39m\u001b[38;5;241m.\u001b[39m\n\u001b[1;32m    332\u001b[0m         \u001b[38;5;28mformat\u001b[39m(target_id, \u001b[38;5;124m\"\u001b[39m\u001b[38;5;124m.\u001b[39m\u001b[38;5;124m\"\u001b[39m, name, value))\n",
      "\u001b[0;31mPy4JJavaError\u001b[0m: An error occurred while calling z:org.apache.spark.api.python.PythonRDD.collectAndServe.\n: org.apache.spark.SparkException: Job aborted due to stage failure: \nAborting TaskSet 6.0 because task 20 (partition 20)\ncannot run anywhere due to node and executor excludeOnFailure.\nMost recent failure:\nLost task 20.0 in stage 6.0 (TID 323) (worker3 executor 2): org.apache.spark.api.python.PythonException: Traceback (most recent call last):\n  File \"/usr/local/hadoop/tmp/nm-local-dir/usercache/ubuntu/appcache/application_1759911303345_0011/container_1759911303345_0011_01_000003/pyspark.zip/pyspark/worker.py\", line 1100, in main\n    raise PySparkRuntimeError(\npyspark.errors.exceptions.base.PySparkRuntimeError: [PYTHON_VERSION_MISMATCH] Python in worker has different version (3, 8) than that in driver 3.10, PySpark cannot run with different minor versions.\nPlease check environment variables PYSPARK_PYTHON and PYSPARK_DRIVER_PYTHON are correctly set.\n\n\tat org.apache.spark.api.python.BasePythonRunner$ReaderIterator.handlePythonException(PythonRunner.scala:572)\n\tat org.apache.spark.api.python.PythonRunner$$anon$3.read(PythonRunner.scala:784)\n\tat org.apache.spark.api.python.PythonRunner$$anon$3.read(PythonRunner.scala:766)\n\tat org.apache.spark.api.python.BasePythonRunner$ReaderIterator.hasNext(PythonRunner.scala:525)\n\tat org.apache.spark.InterruptibleIterator.hasNext(InterruptibleIterator.scala:37)\n\tat scala.collection.Iterator.foreach(Iterator.scala:943)\n\tat scala.collection.Iterator.foreach$(Iterator.scala:943)\n\tat org.apache.spark.InterruptibleIterator.foreach(InterruptibleIterator.scala:28)\n\tat scala.collection.generic.Growable.$plus$plus$eq(Growable.scala:62)\n\tat scala.collection.generic.Growable.$plus$plus$eq$(Growable.scala:53)\n\tat scala.collection.mutable.ArrayBuffer.$plus$plus$eq(ArrayBuffer.scala:105)\n\tat scala.collection.mutable.ArrayBuffer.$plus$plus$eq(ArrayBuffer.scala:49)\n\tat scala.collection.TraversableOnce.to(TraversableOnce.scala:366)\n\tat scala.collection.TraversableOnce.to$(TraversableOnce.scala:364)\n\tat org.apache.spark.InterruptibleIterator.to(InterruptibleIterator.scala:28)\n\tat scala.collection.TraversableOnce.toBuffer(TraversableOnce.scala:358)\n\tat scala.collection.TraversableOnce.toBuffer$(TraversableOnce.scala:358)\n\tat org.apache.spark.InterruptibleIterator.toBuffer(InterruptibleIterator.scala:28)\n\tat scala.collection.TraversableOnce.toArray(TraversableOnce.scala:345)\n\tat scala.collection.TraversableOnce.toArray$(TraversableOnce.scala:339)\n\tat org.apache.spark.InterruptibleIterator.toArray(InterruptibleIterator.scala:28)\n\tat org.apache.spark.rdd.RDD.$anonfun$collect$2(RDD.scala:1049)\n\tat org.apache.spark.SparkContext.$anonfun$runJob$5(SparkContext.scala:2433)\n\tat org.apache.spark.scheduler.ResultTask.runTask(ResultTask.scala:93)\n\tat org.apache.spark.TaskContext.runTaskWithListeners(TaskContext.scala:166)\n\tat org.apache.spark.scheduler.Task.run(Task.scala:141)\n\tat org.apache.spark.executor.Executor$TaskRunner.$anonfun$run$4(Executor.scala:621)\n\tat org.apache.spark.util.SparkErrorUtils.tryWithSafeFinally(SparkErrorUtils.scala:64)\n\tat org.apache.spark.util.SparkErrorUtils.tryWithSafeFinally$(SparkErrorUtils.scala:61)\n\tat org.apache.spark.util.Utils$.tryWithSafeFinally(Utils.scala:94)\n\tat org.apache.spark.executor.Executor$TaskRunner.run(Executor.scala:624)\n\tat java.util.concurrent.ThreadPoolExecutor.runWorker(ThreadPoolExecutor.java:1149)\n\tat java.util.concurrent.ThreadPoolExecutor$Worker.run(ThreadPoolExecutor.java:624)\n\tat java.lang.Thread.run(Thread.java:750)\n\n\nExcludeOnFailure behavior can be configured via spark.excludeOnFailure.*.\n\n\tat org.apache.spark.scheduler.DAGScheduler.failJobAndIndependentStages(DAGScheduler.scala:2898)\n\tat org.apache.spark.scheduler.DAGScheduler.$anonfun$abortStage$2(DAGScheduler.scala:2834)\n\tat org.apache.spark.scheduler.DAGScheduler.$anonfun$abortStage$2$adapted(DAGScheduler.scala:2833)\n\tat scala.collection.mutable.ResizableArray.foreach(ResizableArray.scala:62)\n\tat scala.collection.mutable.ResizableArray.foreach$(ResizableArray.scala:55)\n\tat scala.collection.mutable.ArrayBuffer.foreach(ArrayBuffer.scala:49)\n\tat org.apache.spark.scheduler.DAGScheduler.abortStage(DAGScheduler.scala:2833)\n\tat org.apache.spark.scheduler.DAGScheduler.$anonfun$handleTaskSetFailed$1(DAGScheduler.scala:1253)\n\tat org.apache.spark.scheduler.DAGScheduler.$anonfun$handleTaskSetFailed$1$adapted(DAGScheduler.scala:1253)\n\tat scala.Option.foreach(Option.scala:407)\n\tat org.apache.spark.scheduler.DAGScheduler.handleTaskSetFailed(DAGScheduler.scala:1253)\n\tat org.apache.spark.scheduler.DAGSchedulerEventProcessLoop.doOnReceive(DAGScheduler.scala:3102)\n\tat org.apache.spark.scheduler.DAGSchedulerEventProcessLoop.onReceive(DAGScheduler.scala:3036)\n\tat org.apache.spark.scheduler.DAGSchedulerEventProcessLoop.onReceive(DAGScheduler.scala:3025)\n\tat org.apache.spark.util.EventLoop$$anon$1.run(EventLoop.scala:49)\n\tat org.apache.spark.scheduler.DAGScheduler.runJob(DAGScheduler.scala:995)\n\tat org.apache.spark.SparkContext.runJob(SparkContext.scala:2393)\n\tat org.apache.spark.SparkContext.runJob(SparkContext.scala:2414)\n\tat org.apache.spark.SparkContext.runJob(SparkContext.scala:2433)\n\tat org.apache.spark.SparkContext.runJob(SparkContext.scala:2458)\n\tat org.apache.spark.rdd.RDD.$anonfun$collect$1(RDD.scala:1049)\n\tat org.apache.spark.rdd.RDDOperationScope$.withScope(RDDOperationScope.scala:151)\n\tat org.apache.spark.rdd.RDDOperationScope$.withScope(RDDOperationScope.scala:112)\n\tat org.apache.spark.rdd.RDD.withScope(RDD.scala:410)\n\tat org.apache.spark.rdd.RDD.collect(RDD.scala:1048)\n\tat org.apache.spark.api.python.PythonRDD$.collectAndServe(PythonRDD.scala:195)\n\tat org.apache.spark.api.python.PythonRDD.collectAndServe(PythonRDD.scala)\n\tat sun.reflect.NativeMethodAccessorImpl.invoke0(Native Method)\n\tat sun.reflect.NativeMethodAccessorImpl.invoke(NativeMethodAccessorImpl.java:62)\n\tat sun.reflect.DelegatingMethodAccessorImpl.invoke(DelegatingMethodAccessorImpl.java:43)\n\tat java.lang.reflect.Method.invoke(Method.java:498)\n\tat py4j.reflection.MethodInvoker.invoke(MethodInvoker.java:244)\n\tat py4j.reflection.ReflectionEngine.invoke(ReflectionEngine.java:374)\n\tat py4j.Gateway.invoke(Gateway.java:282)\n\tat py4j.commands.AbstractCommand.invokeMethod(AbstractCommand.java:132)\n\tat py4j.commands.CallCommand.execute(CallCommand.java:79)\n\tat py4j.ClientServerConnection.waitForCommands(ClientServerConnection.java:182)\n\tat py4j.ClientServerConnection.run(ClientServerConnection.java:106)\n\tat java.lang.Thread.run(Thread.java:750)\n"
     ]
    }
   ],
   "source": [
    "# Tiền xử lý và chia split\n",
    "processed_df, string_indexer_models, scaler_model, label_indexer_model, num_classes = \\\n",
    "    preprocess_nids_data_with_weights(df, spark, save_path=\"preprocessed_data\")"
   ]
  },
  {
   "cell_type": "code",
   "execution_count": null,
   "id": "e78c593d",
   "metadata": {
    "execution": {
     "iopub.execute_input": "2025-06-07T19:41:17.453216Z",
     "iopub.status.busy": "2025-06-07T19:41:17.452700Z",
     "iopub.status.idle": "2025-06-07T21:55:14.638510Z",
     "shell.execute_reply": "2025-06-07T21:55:14.635829Z"
    },
    "executionInfo": {
     "elapsed": 45,
     "status": "ok",
     "timestamp": 1748977318656,
     "user": {
      "displayName": "Ho Hoang Thien B2104825",
      "userId": "08201359454329025516"
     },
     "user_tz": -420
    },
    "id": "u1SupfbXVWNT",
    "papermill": {
     "duration": 8037.269103,
     "end_time": "2025-06-07T21:55:14.641694",
     "exception": false,
     "start_time": "2025-06-07T19:41:17.372591",
     "status": "completed"
    },
    "tags": []
   },
   "outputs": [
    {
     "name": "stderr",
     "output_type": "stream",
     "text": [
      "25/06/07 19:41:18 WARN DAGScheduler: Broadcasting large task binary with size 8.2 MiB\n",
      "25/06/07 19:51:38 WARN DAGScheduler: Broadcasting large task binary with size 10.9 MiB\n",
      "                                                                                                    \r"
     ]
    },
    {
     "name": "stdout",
     "output_type": "stream",
     "text": [
      "TRAIN DataFrame: 60,777,330 dòng.\n"
     ]
    },
    {
     "name": "stderr",
     "output_type": "stream",
     "text": [
      "25/06/07 20:13:45 WARN DAGScheduler: Broadcasting large task binary with size 8.2 MiB\n",
      "25/06/07 20:24:30 WARN DAGScheduler: Broadcasting large task binary with size 10.9 MiB\n",
      "                                                                                                    \r"
     ]
    },
    {
     "name": "stdout",
     "output_type": "stream",
     "text": [
      "TEST DataFrame: 15,200,900 dòng.\n",
      "Ghi train_df\n"
     ]
    },
    {
     "name": "stderr",
     "output_type": "stream",
     "text": [
      "25/06/07 20:46:30 WARN DAGScheduler: Broadcasting large task binary with size 8.2 MiB\n",
      "25/06/07 20:56:50 WARN DAGScheduler: Broadcasting large task binary with size 11.1 MiB\n",
      "                                                                                                    \r"
     ]
    },
    {
     "name": "stdout",
     "output_type": "stream",
     "text": [
      "Ghi test_df\n"
     ]
    },
    {
     "name": "stderr",
     "output_type": "stream",
     "text": [
      "25/06/07 21:22:05 WARN DAGScheduler: Broadcasting large task binary with size 8.2 MiB\n",
      "25/06/07 21:32:32 WARN DAGScheduler: Broadcasting large task binary with size 11.1 MiB\n",
      "                                                                                                    \r"
     ]
    },
    {
     "ename": "",
     "evalue": "",
     "output_type": "error",
     "traceback": [
      "\u001b[1;31mnotebook controller is DISPOSED. \n",
      "\u001b[1;31mView Jupyter <a href='command:jupyter.viewOutput'>log</a> for further details."
     ]
    },
    {
     "ename": "",
     "evalue": "",
     "output_type": "error",
     "traceback": [
      "\u001b[1;31mnotebook controller is DISPOSED. \n",
      "\u001b[1;31mView Jupyter <a href='command:jupyter.viewOutput'>log</a> for further details."
     ]
    },
    {
     "ename": "",
     "evalue": "",
     "output_type": "error",
     "traceback": [
      "\u001b[1;31mnotebook controller is DISPOSED. \n",
      "\u001b[1;31mView Jupyter <a href='command:jupyter.viewOutput'>log</a> for further details."
     ]
    },
    {
     "ename": "",
     "evalue": "",
     "output_type": "error",
     "traceback": [
      "\u001b[1;31mnotebook controller is DISPOSED. \n",
      "\u001b[1;31mView Jupyter <a href='command:jupyter.viewOutput'>log</a> for further details."
     ]
    },
    {
     "ename": "",
     "evalue": "",
     "output_type": "error",
     "traceback": [
      "\u001b[1;31mnotebook controller is DISPOSED. \n",
      "\u001b[1;31mView Jupyter <a href='command:jupyter.viewOutput'>log</a> for further details."
     ]
    }
   ],
   "source": [
    "# Import\n",
    "from pyspark.sql.functions import col\n",
    "import os # Import os để tạo thư mục nếu cần\n",
    "# Chia train và val/test (80/20)\n",
    "train_df, val_df, test_df = processed_df.randomSplit([0.7, 0.15, 0.15], seed=42)\n",
    "print(f\"TRAIN DataFrame: {train_df.count():,} dòng.\")\n",
    "print(f\"VAL DataFrame: {val_df.count():,} dòng.\")\n",
    "print(f\"TEST DataFrame: {test_df.count():,} dòng.\")\n",
    "\n",
    "# Lưu dữ liệu\n",
    "print(\"Ghi train_df\")\n",
    "train_df.write.mode(\"overwrite\").parquet(\"hdfs://master:9000/usr/ubuntu/data/classweights-43-16/train_df.parquet\")\n",
    "print(\"Ghi val_df\")\n",
    "val_df.write.mode(\"overwrite\").parquet(\"hdfs://master:9000/usr/ubuntu/data/classweights-43-16/val_df.parquet\")\n",
    "print(\"Ghi test_df\")\n",
    "test_df.write.mode(\"overwrite\").parquet(\"hdfs://master:9000/usr/ubuntu/data/classweights-43-16/test_df.parquet\")"
   ]
  }
 ],
 "metadata": {
  "colab": {
   "authorship_tag": "ABX9TyMypCWOv6zeTEW/t5KR9ePJ",
   "mount_file_id": "1pF_OkxQNx5ZKWOfmPOK_a0sScCtTL37A",
   "provenance": []
  },
  "kaggle": {
   "accelerator": "none",
   "dataSources": [
    {
     "datasetId": 2176461,
     "sourceId": 3632763,
     "sourceType": "datasetVersion"
    }
   ],
   "dockerImageVersionId": 31040,
   "isGpuEnabled": false,
   "isInternetEnabled": true,
   "language": "python",
   "sourceType": "notebook"
  },
  "kernelspec": {
   "display_name": "spark_env (3.10.12)",
   "language": "python",
   "name": "python3"
  },
  "language_info": {
   "codemirror_mode": {
    "name": "ipython",
    "version": 3
   },
   "file_extension": ".py",
   "mimetype": "text/x-python",
   "name": "python",
   "nbconvert_exporter": "python",
   "pygments_lexer": "ipython3",
   "version": "3.10.12"
  },
  "papermill": {
   "default_parameters": {},
   "duration": 11891.878386,
   "end_time": "2025-06-07T21:55:17.473174",
   "environment_variables": {},
   "exception": null,
   "input_path": "__notebook__.ipynb",
   "output_path": "__notebook__.ipynb",
   "parameters": {},
   "start_time": "2025-06-07T18:37:05.594788",
   "version": "2.6.0"
  }
 },
 "nbformat": 4,
 "nbformat_minor": 5
}
